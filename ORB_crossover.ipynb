{
 "cells": [
  {
   "cell_type": "code",
   "execution_count": 32,
   "id": "initial_id",
   "metadata": {
    "collapsed": true,
    "ExecuteTime": {
     "end_time": "2025-09-23T22:38:19.337350200Z",
     "start_time": "2025-09-23T22:38:19.315127400Z"
    }
   },
   "outputs": [],
   "source": [
    "# Imports\n",
    "import pandas as pd\n",
    "import numpy as np\n",
    "import datetime\n",
    "from datetime import time as dtime\n",
    "from datetime import timedelta"
   ]
  },
  {
   "cell_type": "code",
   "execution_count": 33,
   "outputs": [
    {
     "data": {
      "text/plain": "              Date      Time    open    high     low   close  volume\n0       2019-12-31  09:30:00  320.52  320.53  320.24  320.27    4255\n1       2019-12-31  09:31:00  320.27  320.34  320.15  320.33    2049\n2       2019-12-31  09:32:00  320.35  320.97  320.35  320.97    2953\n3       2019-12-31  09:33:00  320.98  321.05  320.81  320.82    2529\n4       2019-12-31  09:34:00  320.83  320.91  320.74  320.80    1373\n...            ...       ...     ...     ...     ...     ...     ...\n507925  2025-08-01  15:55:00  622.10  622.29  621.64  622.25    7142\n507926  2025-08-01  15:56:00  622.27  622.53  622.12  622.46    6161\n507927  2025-08-01  15:57:00  622.46  622.53  622.22  622.38    7356\n507928  2025-08-01  15:58:00  622.39  622.44  621.95  621.96   10144\n507929  2025-08-01  15:59:00  621.97  622.03  621.51  621.71   22237\n\n[544980 rows x 7 columns]",
      "text/html": "<div>\n<style scoped>\n    .dataframe tbody tr th:only-of-type {\n        vertical-align: middle;\n    }\n\n    .dataframe tbody tr th {\n        vertical-align: top;\n    }\n\n    .dataframe thead th {\n        text-align: right;\n    }\n</style>\n<table border=\"1\" class=\"dataframe\">\n  <thead>\n    <tr style=\"text-align: right;\">\n      <th></th>\n      <th>Date</th>\n      <th>Time</th>\n      <th>open</th>\n      <th>high</th>\n      <th>low</th>\n      <th>close</th>\n      <th>volume</th>\n    </tr>\n  </thead>\n  <tbody>\n    <tr>\n      <th>0</th>\n      <td>2019-12-31</td>\n      <td>09:30:00</td>\n      <td>320.52</td>\n      <td>320.53</td>\n      <td>320.24</td>\n      <td>320.27</td>\n      <td>4255</td>\n    </tr>\n    <tr>\n      <th>1</th>\n      <td>2019-12-31</td>\n      <td>09:31:00</td>\n      <td>320.27</td>\n      <td>320.34</td>\n      <td>320.15</td>\n      <td>320.33</td>\n      <td>2049</td>\n    </tr>\n    <tr>\n      <th>2</th>\n      <td>2019-12-31</td>\n      <td>09:32:00</td>\n      <td>320.35</td>\n      <td>320.97</td>\n      <td>320.35</td>\n      <td>320.97</td>\n      <td>2953</td>\n    </tr>\n    <tr>\n      <th>3</th>\n      <td>2019-12-31</td>\n      <td>09:33:00</td>\n      <td>320.98</td>\n      <td>321.05</td>\n      <td>320.81</td>\n      <td>320.82</td>\n      <td>2529</td>\n    </tr>\n    <tr>\n      <th>4</th>\n      <td>2019-12-31</td>\n      <td>09:34:00</td>\n      <td>320.83</td>\n      <td>320.91</td>\n      <td>320.74</td>\n      <td>320.80</td>\n      <td>1373</td>\n    </tr>\n    <tr>\n      <th>...</th>\n      <td>...</td>\n      <td>...</td>\n      <td>...</td>\n      <td>...</td>\n      <td>...</td>\n      <td>...</td>\n      <td>...</td>\n    </tr>\n    <tr>\n      <th>507925</th>\n      <td>2025-08-01</td>\n      <td>15:55:00</td>\n      <td>622.10</td>\n      <td>622.29</td>\n      <td>621.64</td>\n      <td>622.25</td>\n      <td>7142</td>\n    </tr>\n    <tr>\n      <th>507926</th>\n      <td>2025-08-01</td>\n      <td>15:56:00</td>\n      <td>622.27</td>\n      <td>622.53</td>\n      <td>622.12</td>\n      <td>622.46</td>\n      <td>6161</td>\n    </tr>\n    <tr>\n      <th>507927</th>\n      <td>2025-08-01</td>\n      <td>15:57:00</td>\n      <td>622.46</td>\n      <td>622.53</td>\n      <td>622.22</td>\n      <td>622.38</td>\n      <td>7356</td>\n    </tr>\n    <tr>\n      <th>507928</th>\n      <td>2025-08-01</td>\n      <td>15:58:00</td>\n      <td>622.39</td>\n      <td>622.44</td>\n      <td>621.95</td>\n      <td>621.96</td>\n      <td>10144</td>\n    </tr>\n    <tr>\n      <th>507929</th>\n      <td>2025-08-01</td>\n      <td>15:59:00</td>\n      <td>621.97</td>\n      <td>622.03</td>\n      <td>621.51</td>\n      <td>621.71</td>\n      <td>22237</td>\n    </tr>\n  </tbody>\n</table>\n<p>544980 rows × 7 columns</p>\n</div>"
     },
     "execution_count": 33,
     "metadata": {},
     "output_type": "execute_result"
    }
   ],
   "source": [
    "# importing historical data from 2008 to 2021\n",
    "SPY_Data = pd.read_csv('SPY_1min_data.csv', usecols=['date', 'open', 'high', 'low', 'close', 'volume'])\n",
    "\n",
    "# Parse datetime column and divide in 2 columns\n",
    "# SPY_Data['datetime'] = pd.to_datetime(SPY_Data['date'].str.strip(), format='%Y%m%d %H:%M:%S')\n",
    "SPY_Data.rename(columns={\n",
    "    'date': 'datetime'\n",
    "}, inplace=True)\n",
    "\n",
    "SPY_Data['datetime'] = pd.to_datetime(SPY_Data['datetime'])\n",
    "\n",
    "SPY_Data['Date'] = SPY_Data['datetime'].dt.date\n",
    "SPY_Data['Time'] = SPY_Data['datetime'].dt.time\n",
    "\n",
    "# sorting the data by the time column to make sure it is consistent\n",
    "SPY_Data.sort_values('datetime', inplace=True)\n",
    "\n",
    "# Drop original 'date' column\n",
    "# SPY_Data.drop(columns=['date'], inplace=True)\n",
    "\n",
    "# Filter for regular trading hours using datetime column\n",
    "SPY_Data = SPY_Data[SPY_Data['datetime'].dt.time >= pd.to_datetime(\"09:30\").time()]\n",
    "SPY_Data = SPY_Data[SPY_Data['datetime'].dt.time <= pd.to_datetime(\"16:00\").time()]\n",
    "\n",
    "# Making sure the order of the columns stays the same \n",
    "SPY_Data = SPY_Data[['Date', 'Time', 'open', 'high', 'low', 'close', 'volume']]\n",
    "SPY_Data"
   ],
   "metadata": {
    "collapsed": false,
    "ExecuteTime": {
     "end_time": "2025-09-23T22:38:20.091165100Z",
     "start_time": "2025-09-23T22:38:19.327847300Z"
    }
   },
   "id": "3798cde917dfb2b"
  },
  {
   "cell_type": "code",
   "execution_count": 34,
   "outputs": [
    {
     "data": {
      "text/plain": "            Date timeBreach breach  OR_high  OR_low\n0     2019-12-31   09:35:00   high   321.05  320.15\n1     2020-01-02   09:35:00   high   323.86  323.41\n2     2020-01-03   09:43:00   high   322.66  321.10\n3     2020-01-06   09:36:00   high   321.23  320.36\n4     2020-01-07   09:35:00   high   323.17  322.69\n...          ...        ...    ...      ...     ...\n1397  2025-07-28   09:40:00    low   637.84  637.31\n1398  2025-07-29   09:43:00    low   638.67  638.01\n1399  2025-07-30   09:37:00   high   636.03  635.29\n1400  2025-07-31   09:39:00    low   639.75  638.40\n1401  2025-08-01   09:35:00    low   626.34  624.12\n\n[1402 rows x 5 columns]",
      "text/html": "<div>\n<style scoped>\n    .dataframe tbody tr th:only-of-type {\n        vertical-align: middle;\n    }\n\n    .dataframe tbody tr th {\n        vertical-align: top;\n    }\n\n    .dataframe thead th {\n        text-align: right;\n    }\n</style>\n<table border=\"1\" class=\"dataframe\">\n  <thead>\n    <tr style=\"text-align: right;\">\n      <th></th>\n      <th>Date</th>\n      <th>timeBreach</th>\n      <th>breach</th>\n      <th>OR_high</th>\n      <th>OR_low</th>\n    </tr>\n  </thead>\n  <tbody>\n    <tr>\n      <th>0</th>\n      <td>2019-12-31</td>\n      <td>09:35:00</td>\n      <td>high</td>\n      <td>321.05</td>\n      <td>320.15</td>\n    </tr>\n    <tr>\n      <th>1</th>\n      <td>2020-01-02</td>\n      <td>09:35:00</td>\n      <td>high</td>\n      <td>323.86</td>\n      <td>323.41</td>\n    </tr>\n    <tr>\n      <th>2</th>\n      <td>2020-01-03</td>\n      <td>09:43:00</td>\n      <td>high</td>\n      <td>322.66</td>\n      <td>321.10</td>\n    </tr>\n    <tr>\n      <th>3</th>\n      <td>2020-01-06</td>\n      <td>09:36:00</td>\n      <td>high</td>\n      <td>321.23</td>\n      <td>320.36</td>\n    </tr>\n    <tr>\n      <th>4</th>\n      <td>2020-01-07</td>\n      <td>09:35:00</td>\n      <td>high</td>\n      <td>323.17</td>\n      <td>322.69</td>\n    </tr>\n    <tr>\n      <th>...</th>\n      <td>...</td>\n      <td>...</td>\n      <td>...</td>\n      <td>...</td>\n      <td>...</td>\n    </tr>\n    <tr>\n      <th>1397</th>\n      <td>2025-07-28</td>\n      <td>09:40:00</td>\n      <td>low</td>\n      <td>637.84</td>\n      <td>637.31</td>\n    </tr>\n    <tr>\n      <th>1398</th>\n      <td>2025-07-29</td>\n      <td>09:43:00</td>\n      <td>low</td>\n      <td>638.67</td>\n      <td>638.01</td>\n    </tr>\n    <tr>\n      <th>1399</th>\n      <td>2025-07-30</td>\n      <td>09:37:00</td>\n      <td>high</td>\n      <td>636.03</td>\n      <td>635.29</td>\n    </tr>\n    <tr>\n      <th>1400</th>\n      <td>2025-07-31</td>\n      <td>09:39:00</td>\n      <td>low</td>\n      <td>639.75</td>\n      <td>638.40</td>\n    </tr>\n    <tr>\n      <th>1401</th>\n      <td>2025-08-01</td>\n      <td>09:35:00</td>\n      <td>low</td>\n      <td>626.34</td>\n      <td>624.12</td>\n    </tr>\n  </tbody>\n</table>\n<p>1402 rows × 5 columns</p>\n</div>"
     },
     "execution_count": 34,
     "metadata": {},
     "output_type": "execute_result"
    }
   ],
   "source": [
    "# ---- Parameters you can tweak ----\n",
    "retest_tolerance = 0.01           # how close is \"touch\" of boundary ($0.01)\n",
    "use_close_for_breakout = True     # breakout defined by candle close beyond boundary (else use high/low pierce)\n",
    "one_setup_per_day = True          # take first valid setup only per day\n",
    "slippage = 0.00                   # optional per-share slippage\n",
    "# ----------------------------------\n",
    "\n",
    "def get_opening_range(df, date):\n",
    "    day_df = df[df['Date'] == date].copy()\n",
    "    mask = (day_df['Time'] >= pd.to_datetime(\"09:30\").time()) & \\\n",
    "           (day_df['Time'] <  pd.to_datetime(\"09:35\").time())\n",
    "    or_data = day_df.loc[mask]\n",
    "    if or_data.empty:\n",
    "        return None, None\n",
    "    return or_data['high'].max(), or_data['low'].min()\n",
    "\n",
    "\n",
    "def get_first_breach(df, date):\n",
    "    high_or, low_or = get_opening_range(df, date)\n",
    "    if high_or is None:\n",
    "        return None\n",
    "\n",
    "    day_df = df[df['Date'] == date].copy()\n",
    "    # only consider after OR is formed\n",
    "    intraday = day_df[day_df['Time'] >= pd.to_datetime(\"09:35\").time()]\n",
    "\n",
    "    for _, row in intraday.iterrows():\n",
    "        if row['high'] > high_or:   # breach to upside\n",
    "            return {\n",
    "                'Date': date,\n",
    "                'timeBreach': row['Time'],\n",
    "                'breach': 'high',\n",
    "                'OR_high': high_or,\n",
    "                'OR_low': low_or,\n",
    "            }\n",
    "        elif row['low'] < low_or:   # breach to downside\n",
    "            return {\n",
    "                'Date': date,\n",
    "                'timeBreach': row['Time'],\n",
    "                'breach': 'low',\n",
    "                'OR_high': high_or,\n",
    "                'OR_low': low_or,\n",
    "            }\n",
    "    return None\n",
    "\n",
    "\n",
    "breaches = []\n",
    "for d in SPY_Data['Date'].unique():\n",
    "    b = get_first_breach(SPY_Data, d)\n",
    "    if b:\n",
    "        breaches.append(b)\n",
    "\n",
    "breach_df = pd.DataFrame(breaches)\n",
    "breach_df\n",
    "\n"
   ],
   "metadata": {
    "collapsed": false,
    "ExecuteTime": {
     "end_time": "2025-09-23T22:39:06.260586200Z",
     "start_time": "2025-09-23T22:38:20.132706100Z"
    }
   },
   "id": "430caaab41f3645"
  },
  {
   "cell_type": "code",
   "execution_count": 35,
   "outputs": [
    {
     "data": {
      "text/plain": "           Date timeBreach breach  OR_high  OR_low timeCrossover\n0    2020-01-02   09:35:00   high   323.86  323.41      10:11:00\n1    2020-01-07   09:35:00   high   323.17  322.69      14:17:00\n2    2020-01-09   09:35:00    low   326.47  326.09      10:39:00\n3    2020-01-10   09:36:00    low   327.44  326.82      10:05:00\n4    2020-01-14   09:43:00    low   327.75  327.26      10:32:00\n..          ...        ...    ...      ...     ...           ...\n827  2025-07-21   09:35:00   high   629.20  628.67      15:45:00\n828  2025-07-23   09:45:00    low   631.62  630.47      11:54:00\n829  2025-07-28   09:40:00    low   637.84  637.31      10:05:00\n830  2025-07-30   09:37:00   high   636.03  635.29      11:12:00\n831  2025-07-31   09:39:00    low   639.75  638.40      09:57:00\n\n[832 rows x 6 columns]",
      "text/html": "<div>\n<style scoped>\n    .dataframe tbody tr th:only-of-type {\n        vertical-align: middle;\n    }\n\n    .dataframe tbody tr th {\n        vertical-align: top;\n    }\n\n    .dataframe thead th {\n        text-align: right;\n    }\n</style>\n<table border=\"1\" class=\"dataframe\">\n  <thead>\n    <tr style=\"text-align: right;\">\n      <th></th>\n      <th>Date</th>\n      <th>timeBreach</th>\n      <th>breach</th>\n      <th>OR_high</th>\n      <th>OR_low</th>\n      <th>timeCrossover</th>\n    </tr>\n  </thead>\n  <tbody>\n    <tr>\n      <th>0</th>\n      <td>2020-01-02</td>\n      <td>09:35:00</td>\n      <td>high</td>\n      <td>323.86</td>\n      <td>323.41</td>\n      <td>10:11:00</td>\n    </tr>\n    <tr>\n      <th>1</th>\n      <td>2020-01-07</td>\n      <td>09:35:00</td>\n      <td>high</td>\n      <td>323.17</td>\n      <td>322.69</td>\n      <td>14:17:00</td>\n    </tr>\n    <tr>\n      <th>2</th>\n      <td>2020-01-09</td>\n      <td>09:35:00</td>\n      <td>low</td>\n      <td>326.47</td>\n      <td>326.09</td>\n      <td>10:39:00</td>\n    </tr>\n    <tr>\n      <th>3</th>\n      <td>2020-01-10</td>\n      <td>09:36:00</td>\n      <td>low</td>\n      <td>327.44</td>\n      <td>326.82</td>\n      <td>10:05:00</td>\n    </tr>\n    <tr>\n      <th>4</th>\n      <td>2020-01-14</td>\n      <td>09:43:00</td>\n      <td>low</td>\n      <td>327.75</td>\n      <td>327.26</td>\n      <td>10:32:00</td>\n    </tr>\n    <tr>\n      <th>...</th>\n      <td>...</td>\n      <td>...</td>\n      <td>...</td>\n      <td>...</td>\n      <td>...</td>\n      <td>...</td>\n    </tr>\n    <tr>\n      <th>827</th>\n      <td>2025-07-21</td>\n      <td>09:35:00</td>\n      <td>high</td>\n      <td>629.20</td>\n      <td>628.67</td>\n      <td>15:45:00</td>\n    </tr>\n    <tr>\n      <th>828</th>\n      <td>2025-07-23</td>\n      <td>09:45:00</td>\n      <td>low</td>\n      <td>631.62</td>\n      <td>630.47</td>\n      <td>11:54:00</td>\n    </tr>\n    <tr>\n      <th>829</th>\n      <td>2025-07-28</td>\n      <td>09:40:00</td>\n      <td>low</td>\n      <td>637.84</td>\n      <td>637.31</td>\n      <td>10:05:00</td>\n    </tr>\n    <tr>\n      <th>830</th>\n      <td>2025-07-30</td>\n      <td>09:37:00</td>\n      <td>high</td>\n      <td>636.03</td>\n      <td>635.29</td>\n      <td>11:12:00</td>\n    </tr>\n    <tr>\n      <th>831</th>\n      <td>2025-07-31</td>\n      <td>09:39:00</td>\n      <td>low</td>\n      <td>639.75</td>\n      <td>638.40</td>\n      <td>09:57:00</td>\n    </tr>\n  </tbody>\n</table>\n<p>832 rows × 6 columns</p>\n</div>"
     },
     "execution_count": 35,
     "metadata": {},
     "output_type": "execute_result"
    }
   ],
   "source": [
    "def get_ORB_crossover(data_df, date, breach_df):\n",
    "    \n",
    "    day_df = data_df[data_df['Date'] == date].copy()\n",
    "    breachInfo = breach_df[breach_df['Date'] == date].copy()\n",
    "    \n",
    "    high_or = breachInfo['OR_high'].iloc[0]\n",
    "    low_or = breachInfo['OR_low'].iloc[0]\n",
    "    timeBreach = breachInfo['timeBreach'].iloc[0]\n",
    "    typeBreach = breachInfo['breach'].iloc[0]\n",
    "    \n",
    "    # only consider after first OR breach\n",
    "    intraday = day_df[day_df['Time'] > pd.to_datetime(str(timeBreach)).time()]\n",
    "    \n",
    "    fullBreach = False\n",
    "    \n",
    "    for _, row in intraday.iterrows():\n",
    "        \n",
    "        if typeBreach == 'high':\n",
    "            if row['low'] > high_or :\n",
    "                fullBreach = True # we can start looking for a real retest now\n",
    "        elif typeBreach == 'low':\n",
    "            if row['high'] < low_or :\n",
    "                fullBreach = True # we can start looking for a real retest now\n",
    "        \n",
    "        if fullBreach == True:\n",
    "            if typeBreach == 'high':\n",
    "                if row['low'] <= low_or:   # full ORB crossover\n",
    "                    return {\n",
    "                        'Date': date,\n",
    "                        'timeBreach': timeBreach,\n",
    "                        'breach': typeBreach,\n",
    "                        'OR_high': high_or,\n",
    "                        'OR_low': low_or,\n",
    "                        'timeCrossover': row['Time']\n",
    "                    }\n",
    "            elif typeBreach == 'low':\n",
    "                if row['high'] >= high_or:   # full ORB crossover\n",
    "                    return {\n",
    "                        'Date': date,\n",
    "                        'timeBreach': timeBreach,\n",
    "                        'breach': typeBreach,\n",
    "                        'OR_high': high_or,\n",
    "                        'OR_low': low_or,\n",
    "                        'timeCrossover': row['Time']\n",
    "                    }\n",
    "    return None\n",
    "\n",
    "\n",
    "crossovers = []\n",
    "for d in SPY_Data['Date'].unique():\n",
    "    b = get_ORB_crossover(SPY_Data, d, breach_df)\n",
    "    if b:\n",
    "        crossovers.append(b)\n",
    "\n",
    "crossovers_df = pd.DataFrame(crossovers)\n",
    "crossovers_df\n",
    "\n"
   ],
   "metadata": {
    "collapsed": false,
    "ExecuteTime": {
     "end_time": "2025-09-23T22:39:34.218361300Z",
     "start_time": "2025-09-23T22:39:06.287107700Z"
    }
   },
   "id": "aa889f260284d14a"
  },
  {
   "cell_type": "code",
   "execution_count": 36,
   "outputs": [
    {
     "data": {
      "text/plain": "           Date timeBreach breach  OR_high  OR_low timeCrossover  ORB_width\n0    2020-01-02   09:35:00   high   323.86  323.41      10:11:00       0.45\n1    2020-01-07   09:35:00   high   323.17  322.69      14:17:00       0.48\n2    2020-01-09   09:35:00    low   326.47  326.09      10:39:00       0.38\n3    2020-01-10   09:36:00    low   327.44  326.82      10:05:00       0.62\n4    2020-01-14   09:43:00    low   327.75  327.26      10:32:00       0.49\n..          ...        ...    ...      ...     ...           ...        ...\n827  2025-07-21   09:35:00   high   629.20  628.67      15:45:00       0.53\n828  2025-07-23   09:45:00    low   631.62  630.47      11:54:00       1.15\n829  2025-07-28   09:40:00    low   637.84  637.31      10:05:00       0.53\n830  2025-07-30   09:37:00   high   636.03  635.29      11:12:00       0.74\n831  2025-07-31   09:39:00    low   639.75  638.40      09:57:00       1.35\n\n[832 rows x 7 columns]",
      "text/html": "<div>\n<style scoped>\n    .dataframe tbody tr th:only-of-type {\n        vertical-align: middle;\n    }\n\n    .dataframe tbody tr th {\n        vertical-align: top;\n    }\n\n    .dataframe thead th {\n        text-align: right;\n    }\n</style>\n<table border=\"1\" class=\"dataframe\">\n  <thead>\n    <tr style=\"text-align: right;\">\n      <th></th>\n      <th>Date</th>\n      <th>timeBreach</th>\n      <th>breach</th>\n      <th>OR_high</th>\n      <th>OR_low</th>\n      <th>timeCrossover</th>\n      <th>ORB_width</th>\n    </tr>\n  </thead>\n  <tbody>\n    <tr>\n      <th>0</th>\n      <td>2020-01-02</td>\n      <td>09:35:00</td>\n      <td>high</td>\n      <td>323.86</td>\n      <td>323.41</td>\n      <td>10:11:00</td>\n      <td>0.45</td>\n    </tr>\n    <tr>\n      <th>1</th>\n      <td>2020-01-07</td>\n      <td>09:35:00</td>\n      <td>high</td>\n      <td>323.17</td>\n      <td>322.69</td>\n      <td>14:17:00</td>\n      <td>0.48</td>\n    </tr>\n    <tr>\n      <th>2</th>\n      <td>2020-01-09</td>\n      <td>09:35:00</td>\n      <td>low</td>\n      <td>326.47</td>\n      <td>326.09</td>\n      <td>10:39:00</td>\n      <td>0.38</td>\n    </tr>\n    <tr>\n      <th>3</th>\n      <td>2020-01-10</td>\n      <td>09:36:00</td>\n      <td>low</td>\n      <td>327.44</td>\n      <td>326.82</td>\n      <td>10:05:00</td>\n      <td>0.62</td>\n    </tr>\n    <tr>\n      <th>4</th>\n      <td>2020-01-14</td>\n      <td>09:43:00</td>\n      <td>low</td>\n      <td>327.75</td>\n      <td>327.26</td>\n      <td>10:32:00</td>\n      <td>0.49</td>\n    </tr>\n    <tr>\n      <th>...</th>\n      <td>...</td>\n      <td>...</td>\n      <td>...</td>\n      <td>...</td>\n      <td>...</td>\n      <td>...</td>\n      <td>...</td>\n    </tr>\n    <tr>\n      <th>827</th>\n      <td>2025-07-21</td>\n      <td>09:35:00</td>\n      <td>high</td>\n      <td>629.20</td>\n      <td>628.67</td>\n      <td>15:45:00</td>\n      <td>0.53</td>\n    </tr>\n    <tr>\n      <th>828</th>\n      <td>2025-07-23</td>\n      <td>09:45:00</td>\n      <td>low</td>\n      <td>631.62</td>\n      <td>630.47</td>\n      <td>11:54:00</td>\n      <td>1.15</td>\n    </tr>\n    <tr>\n      <th>829</th>\n      <td>2025-07-28</td>\n      <td>09:40:00</td>\n      <td>low</td>\n      <td>637.84</td>\n      <td>637.31</td>\n      <td>10:05:00</td>\n      <td>0.53</td>\n    </tr>\n    <tr>\n      <th>830</th>\n      <td>2025-07-30</td>\n      <td>09:37:00</td>\n      <td>high</td>\n      <td>636.03</td>\n      <td>635.29</td>\n      <td>11:12:00</td>\n      <td>0.74</td>\n    </tr>\n    <tr>\n      <th>831</th>\n      <td>2025-07-31</td>\n      <td>09:39:00</td>\n      <td>low</td>\n      <td>639.75</td>\n      <td>638.40</td>\n      <td>09:57:00</td>\n      <td>1.35</td>\n    </tr>\n  </tbody>\n</table>\n<p>832 rows × 7 columns</p>\n</div>"
     },
     "execution_count": 36,
     "metadata": {},
     "output_type": "execute_result"
    }
   ],
   "source": [
    "crossovers_df['ORB_width'] = crossovers_df['OR_high']-crossovers_df['OR_low']\n",
    "crossovers_df"
   ],
   "metadata": {
    "collapsed": false,
    "ExecuteTime": {
     "end_time": "2025-09-23T22:39:34.234870300Z",
     "start_time": "2025-09-23T22:39:34.219359400Z"
    }
   },
   "id": "46e0ba90e7854473"
  },
  {
   "cell_type": "code",
   "execution_count": 40,
   "outputs": [
    {
     "data": {
      "text/plain": "            Date timeBreach breach  OR_high  OR_low timeConfirmationBar\n0     2019-12-31   09:35:00   high   321.05  320.15            09:37:00\n1     2020-01-02   09:35:00   high   323.86  323.41            09:46:00\n2     2020-01-03   09:43:00   high   322.66  321.10            09:44:00\n3     2020-01-06   09:36:00   high   321.23  320.36            09:41:00\n4     2020-01-07   09:35:00   high   323.17  322.69            10:59:00\n...          ...        ...    ...      ...     ...                 ...\n1292  2025-07-28   09:40:00    low   637.84  637.31            09:49:00\n1293  2025-07-29   09:43:00    low   638.67  638.01            09:49:00\n1294  2025-07-30   09:37:00   high   636.03  635.29            09:46:00\n1295  2025-07-31   09:39:00    low   639.75  638.40            09:41:00\n1296  2025-08-01   09:35:00    low   626.34  624.12            09:40:00\n\n[1297 rows x 6 columns]",
      "text/html": "<div>\n<style scoped>\n    .dataframe tbody tr th:only-of-type {\n        vertical-align: middle;\n    }\n\n    .dataframe tbody tr th {\n        vertical-align: top;\n    }\n\n    .dataframe thead th {\n        text-align: right;\n    }\n</style>\n<table border=\"1\" class=\"dataframe\">\n  <thead>\n    <tr style=\"text-align: right;\">\n      <th></th>\n      <th>Date</th>\n      <th>timeBreach</th>\n      <th>breach</th>\n      <th>OR_high</th>\n      <th>OR_low</th>\n      <th>timeConfirmationBar</th>\n    </tr>\n  </thead>\n  <tbody>\n    <tr>\n      <th>0</th>\n      <td>2019-12-31</td>\n      <td>09:35:00</td>\n      <td>high</td>\n      <td>321.05</td>\n      <td>320.15</td>\n      <td>09:37:00</td>\n    </tr>\n    <tr>\n      <th>1</th>\n      <td>2020-01-02</td>\n      <td>09:35:00</td>\n      <td>high</td>\n      <td>323.86</td>\n      <td>323.41</td>\n      <td>09:46:00</td>\n    </tr>\n    <tr>\n      <th>2</th>\n      <td>2020-01-03</td>\n      <td>09:43:00</td>\n      <td>high</td>\n      <td>322.66</td>\n      <td>321.10</td>\n      <td>09:44:00</td>\n    </tr>\n    <tr>\n      <th>3</th>\n      <td>2020-01-06</td>\n      <td>09:36:00</td>\n      <td>high</td>\n      <td>321.23</td>\n      <td>320.36</td>\n      <td>09:41:00</td>\n    </tr>\n    <tr>\n      <th>4</th>\n      <td>2020-01-07</td>\n      <td>09:35:00</td>\n      <td>high</td>\n      <td>323.17</td>\n      <td>322.69</td>\n      <td>10:59:00</td>\n    </tr>\n    <tr>\n      <th>...</th>\n      <td>...</td>\n      <td>...</td>\n      <td>...</td>\n      <td>...</td>\n      <td>...</td>\n      <td>...</td>\n    </tr>\n    <tr>\n      <th>1292</th>\n      <td>2025-07-28</td>\n      <td>09:40:00</td>\n      <td>low</td>\n      <td>637.84</td>\n      <td>637.31</td>\n      <td>09:49:00</td>\n    </tr>\n    <tr>\n      <th>1293</th>\n      <td>2025-07-29</td>\n      <td>09:43:00</td>\n      <td>low</td>\n      <td>638.67</td>\n      <td>638.01</td>\n      <td>09:49:00</td>\n    </tr>\n    <tr>\n      <th>1294</th>\n      <td>2025-07-30</td>\n      <td>09:37:00</td>\n      <td>high</td>\n      <td>636.03</td>\n      <td>635.29</td>\n      <td>09:46:00</td>\n    </tr>\n    <tr>\n      <th>1295</th>\n      <td>2025-07-31</td>\n      <td>09:39:00</td>\n      <td>low</td>\n      <td>639.75</td>\n      <td>638.40</td>\n      <td>09:41:00</td>\n    </tr>\n    <tr>\n      <th>1296</th>\n      <td>2025-08-01</td>\n      <td>09:35:00</td>\n      <td>low</td>\n      <td>626.34</td>\n      <td>624.12</td>\n      <td>09:40:00</td>\n    </tr>\n  </tbody>\n</table>\n<p>1297 rows × 6 columns</p>\n</div>"
     },
     "execution_count": 40,
     "metadata": {},
     "output_type": "execute_result"
    }
   ],
   "source": [
    "def detectConfirmation(data_df, date, retests_df):\n",
    "    \n",
    "    day_df = data_df[data_df['Date'] == date].copy()\n",
    "    retestInfo = retests_df[retests_df['Date'] == date].copy()\n",
    "    \n",
    "    high_or = retestInfo['OR_high'].iloc[0]\n",
    "    low_or = retestInfo['OR_low'].iloc[0]\n",
    "    timeBreach = retestInfo['timeBreach'].iloc[0]\n",
    "    typeBreach = retestInfo['breach'].iloc[0]\n",
    "\n",
    "    # only consider after first OR breach\n",
    "    intraday = day_df[day_df['Time'] > pd.to_datetime(str(timeBreach)).time()]\n",
    "    \n",
    "    confirmationBar = False\n",
    "    \n",
    "    for _, row in intraday.iterrows():\n",
    "        \n",
    "        if typeBreach == 'high':\n",
    "            if row['low'] > high_or :\n",
    "                confirmationBar = True # we can start looking for a real retest now\n",
    "        elif typeBreach == 'low':\n",
    "            if row['high'] < low_or :\n",
    "                confirmationBar = True # we can start looking for a real retest now\n",
    "        \n",
    "        if confirmationBar == True:\n",
    "            if typeBreach == 'high':\n",
    " \n",
    "                return {\n",
    "                    'Date': date,\n",
    "                    'timeBreach': retestInfo['timeBreach'].iloc[0],\n",
    "                    'breach': typeBreach,\n",
    "                    'OR_high': high_or,\n",
    "                    'OR_low': low_or,\n",
    "                    'timeConfirmationBar': row['Time']\n",
    "                }\n",
    "            elif typeBreach == 'low':\n",
    "                return {\n",
    "                    'Date': date,\n",
    "                    'timeBreach': retestInfo['timeBreach'].iloc[0],\n",
    "                    'breach': typeBreach,\n",
    "                    'OR_high': high_or,\n",
    "                    'OR_low': low_or,\n",
    "                    'timeConfirmationBar': row['Time']\n",
    "                }\n",
    "    return None\n",
    "\n",
    "\n",
    "confirmationBars = []\n",
    "for d in breach_df['Date'].unique():\n",
    "    b = detectConfirmation(SPY_Data, d, breach_df)\n",
    "    if b:\n",
    "        confirmationBars.append(b)\n",
    "\n",
    "confirmationBar_df = pd.DataFrame(confirmationBars)\n",
    "confirmationBar_df\n"
   ],
   "metadata": {
    "collapsed": false,
    "ExecuteTime": {
     "end_time": "2025-09-23T22:50:04.263064400Z",
     "start_time": "2025-09-23T22:49:40.153900600Z"
    }
   },
   "id": "2c1835d15a850143"
  },
  {
   "cell_type": "code",
   "execution_count": 41,
   "outputs": [
    {
     "data": {
      "text/plain": "            Date timeBreach breach  OR_high  OR_low timeConfirmationBar  \\\n0     2019-12-31   09:35:00   high   321.05  320.15            09:37:00   \n1     2020-01-02   09:35:00   high   323.86  323.41            09:46:00   \n2     2020-01-03   09:43:00   high   322.66  321.10            09:44:00   \n3     2020-01-06   09:36:00   high   321.23  320.36            09:41:00   \n4     2020-01-07   09:35:00   high   323.17  322.69            10:59:00   \n...          ...        ...    ...      ...     ...                 ...   \n1290  2025-07-28   09:40:00    low   637.84  637.31            09:49:00   \n1291  2025-07-29   09:43:00    low   638.67  638.01            09:49:00   \n1292  2025-07-30   09:37:00   high   636.03  635.29            09:46:00   \n1293  2025-07-31   09:39:00    low   639.75  638.40            09:41:00   \n1294  2025-08-01   09:35:00    low   626.34  624.12            09:40:00   \n\n     timePullback  \n0        09:55:00  \n1        09:49:00  \n2        09:55:00  \n3        09:54:00  \n4        11:20:00  \n...           ...  \n1290     09:53:00  \n1291     09:51:00  \n1292     09:47:00  \n1293     09:48:00  \n1294     09:56:00  \n\n[1295 rows x 7 columns]",
      "text/html": "<div>\n<style scoped>\n    .dataframe tbody tr th:only-of-type {\n        vertical-align: middle;\n    }\n\n    .dataframe tbody tr th {\n        vertical-align: top;\n    }\n\n    .dataframe thead th {\n        text-align: right;\n    }\n</style>\n<table border=\"1\" class=\"dataframe\">\n  <thead>\n    <tr style=\"text-align: right;\">\n      <th></th>\n      <th>Date</th>\n      <th>timeBreach</th>\n      <th>breach</th>\n      <th>OR_high</th>\n      <th>OR_low</th>\n      <th>timeConfirmationBar</th>\n      <th>timePullback</th>\n    </tr>\n  </thead>\n  <tbody>\n    <tr>\n      <th>0</th>\n      <td>2019-12-31</td>\n      <td>09:35:00</td>\n      <td>high</td>\n      <td>321.05</td>\n      <td>320.15</td>\n      <td>09:37:00</td>\n      <td>09:55:00</td>\n    </tr>\n    <tr>\n      <th>1</th>\n      <td>2020-01-02</td>\n      <td>09:35:00</td>\n      <td>high</td>\n      <td>323.86</td>\n      <td>323.41</td>\n      <td>09:46:00</td>\n      <td>09:49:00</td>\n    </tr>\n    <tr>\n      <th>2</th>\n      <td>2020-01-03</td>\n      <td>09:43:00</td>\n      <td>high</td>\n      <td>322.66</td>\n      <td>321.10</td>\n      <td>09:44:00</td>\n      <td>09:55:00</td>\n    </tr>\n    <tr>\n      <th>3</th>\n      <td>2020-01-06</td>\n      <td>09:36:00</td>\n      <td>high</td>\n      <td>321.23</td>\n      <td>320.36</td>\n      <td>09:41:00</td>\n      <td>09:54:00</td>\n    </tr>\n    <tr>\n      <th>4</th>\n      <td>2020-01-07</td>\n      <td>09:35:00</td>\n      <td>high</td>\n      <td>323.17</td>\n      <td>322.69</td>\n      <td>10:59:00</td>\n      <td>11:20:00</td>\n    </tr>\n    <tr>\n      <th>...</th>\n      <td>...</td>\n      <td>...</td>\n      <td>...</td>\n      <td>...</td>\n      <td>...</td>\n      <td>...</td>\n      <td>...</td>\n    </tr>\n    <tr>\n      <th>1290</th>\n      <td>2025-07-28</td>\n      <td>09:40:00</td>\n      <td>low</td>\n      <td>637.84</td>\n      <td>637.31</td>\n      <td>09:49:00</td>\n      <td>09:53:00</td>\n    </tr>\n    <tr>\n      <th>1291</th>\n      <td>2025-07-29</td>\n      <td>09:43:00</td>\n      <td>low</td>\n      <td>638.67</td>\n      <td>638.01</td>\n      <td>09:49:00</td>\n      <td>09:51:00</td>\n    </tr>\n    <tr>\n      <th>1292</th>\n      <td>2025-07-30</td>\n      <td>09:37:00</td>\n      <td>high</td>\n      <td>636.03</td>\n      <td>635.29</td>\n      <td>09:46:00</td>\n      <td>09:47:00</td>\n    </tr>\n    <tr>\n      <th>1293</th>\n      <td>2025-07-31</td>\n      <td>09:39:00</td>\n      <td>low</td>\n      <td>639.75</td>\n      <td>638.40</td>\n      <td>09:41:00</td>\n      <td>09:48:00</td>\n    </tr>\n    <tr>\n      <th>1294</th>\n      <td>2025-08-01</td>\n      <td>09:35:00</td>\n      <td>low</td>\n      <td>626.34</td>\n      <td>624.12</td>\n      <td>09:40:00</td>\n      <td>09:56:00</td>\n    </tr>\n  </tbody>\n</table>\n<p>1295 rows × 7 columns</p>\n</div>"
     },
     "execution_count": 41,
     "metadata": {},
     "output_type": "execute_result"
    }
   ],
   "source": [
    "def detectPullback(data_df, date, confirmationBar_df):\n",
    "    \n",
    "    day_df = data_df[data_df['Date'] == date].copy()\n",
    "    pullbackInfo = confirmationBar_df[confirmationBar_df['Date'] == date].copy()\n",
    "    \n",
    "    high_or = pullbackInfo['OR_high'].iloc[0]\n",
    "    low_or = pullbackInfo['OR_low'].iloc[0]\n",
    "    timeConfirmationBar = pullbackInfo['timeConfirmationBar'].iloc[0]\n",
    "    typeBreach = pullbackInfo['breach'].iloc[0]\n",
    "\n",
    "    # only consider after first OR breach\n",
    "    intraday = day_df[day_df['Time'] > pd.to_datetime(str(timeConfirmationBar)).time()]\n",
    "    \n",
    "    confirmationPullback = False\n",
    "    \n",
    "    previousPeak = intraday.iloc[0]['open']\n",
    "    \n",
    "    for _, row in intraday.iterrows():      \n",
    "        \n",
    "        if typeBreach == 'high':\n",
    "            if row['close'] < previousPeak - (high_or - low_or) * 0.30 :\n",
    "                confirmationPullback = True # we can start looking for a real retest now\n",
    "            elif row['close'] > previousPeak:\n",
    "                previousPeak = row['close']\n",
    "                \n",
    "        elif typeBreach == 'low':\n",
    "            if row['close'] > previousPeak + (high_or - low_or) * 0.30 :\n",
    "                confirmationPullback = True # we can start looking for a real retest now\n",
    "            elif row['close'] < previousPeak:\n",
    "                previousPeak = row['close']\n",
    "            \n",
    "        if confirmationPullback == True:\n",
    "            if typeBreach == 'high':\n",
    " \n",
    "                return {\n",
    "                    'Date': date,\n",
    "                    'timeBreach': pullbackInfo['timeBreach'].iloc[0],\n",
    "                    'breach': typeBreach,\n",
    "                    'OR_high': high_or,\n",
    "                    'OR_low': low_or,\n",
    "                    'timeConfirmationBar': timeConfirmationBar,\n",
    "                    'timePullback': row['Time']\n",
    "                }\n",
    "            elif typeBreach == 'low':\n",
    "                return {\n",
    "                    'Date': date,\n",
    "                    'timeBreach': pullbackInfo['timeBreach'].iloc[0],\n",
    "                    'breach': typeBreach,\n",
    "                    'OR_high': high_or,\n",
    "                    'OR_low': low_or,\n",
    "                    'timeConfirmationBar': timeConfirmationBar,\n",
    "                    'timePullback': row['Time']\n",
    "                }\n",
    "    return None\n",
    "\n",
    "\n",
    "confirmationPullbacks = []\n",
    "for d in confirmationBar_df['Date'].unique():\n",
    "    b = detectPullback(SPY_Data, d, confirmationBar_df)\n",
    "    if b:\n",
    "        confirmationPullbacks.append(b)\n",
    "\n",
    "confirmationPullback_df = pd.DataFrame(confirmationPullbacks)\n",
    "confirmationPullback_df"
   ],
   "metadata": {
    "collapsed": false,
    "ExecuteTime": {
     "end_time": "2025-09-23T22:50:25.728190100Z",
     "start_time": "2025-09-23T22:50:04.280778900Z"
    }
   },
   "id": "145c0091b822e92e"
  },
  {
   "cell_type": "code",
   "execution_count": 42,
   "outputs": [
    {
     "name": "stdout",
     "output_type": "stream",
     "text": [
      "Total PnL: -441.54999999995243\n"
     ]
    },
    {
     "data": {
      "text/plain": "            Date timeBreach breach  OR_high  OR_low timeConfirmationBar  \\\n0     2019-12-31   09:35:00   high   321.05  320.15            09:37:00   \n1     2020-01-02   09:35:00   high   323.86  323.41            09:46:00   \n2     2020-01-03   09:43:00   high   322.66  321.10            09:44:00   \n3     2020-01-06   09:36:00   high   321.23  320.36            09:41:00   \n4     2020-01-07   09:35:00   high   323.17  322.69            10:59:00   \n...          ...        ...    ...      ...     ...                 ...   \n1289  2025-07-28   09:40:00    low   637.84  637.31            09:49:00   \n1290  2025-07-29   09:43:00    low   638.67  638.01            09:49:00   \n1291  2025-07-30   09:37:00   high   636.03  635.29            09:46:00   \n1292  2025-07-31   09:39:00    low   639.75  638.40            09:41:00   \n1293  2025-08-01   09:35:00    low   626.34  624.12            09:40:00   \n\n     timePullback  timeExit  entryPrice  exitPrice  returns  \n0        09:55:00  15:59:00      321.17     321.91    -0.74  \n1        09:49:00  10:11:00      323.72     323.60     0.12  \n2        09:55:00  15:59:00      322.44     322.46    -0.02  \n3        09:54:00  15:59:00      321.42     323.69    -2.27  \n4        11:20:00  14:17:00      323.29     322.83     0.46  \n...           ...       ...         ...        ...      ...  \n1289     09:53:00  10:07:00      637.52     637.80     0.28  \n1290     09:51:00  15:59:00      637.58     635.22    -2.36  \n1291     09:47:00  11:12:00      635.70     635.36     0.34  \n1292     09:48:00  15:59:00      638.46     631.91    -6.55  \n1293     09:56:00  15:59:00      622.06     621.69    -0.37  \n\n[1294 rows x 11 columns]",
      "text/html": "<div>\n<style scoped>\n    .dataframe tbody tr th:only-of-type {\n        vertical-align: middle;\n    }\n\n    .dataframe tbody tr th {\n        vertical-align: top;\n    }\n\n    .dataframe thead th {\n        text-align: right;\n    }\n</style>\n<table border=\"1\" class=\"dataframe\">\n  <thead>\n    <tr style=\"text-align: right;\">\n      <th></th>\n      <th>Date</th>\n      <th>timeBreach</th>\n      <th>breach</th>\n      <th>OR_high</th>\n      <th>OR_low</th>\n      <th>timeConfirmationBar</th>\n      <th>timePullback</th>\n      <th>timeExit</th>\n      <th>entryPrice</th>\n      <th>exitPrice</th>\n      <th>returns</th>\n    </tr>\n  </thead>\n  <tbody>\n    <tr>\n      <th>0</th>\n      <td>2019-12-31</td>\n      <td>09:35:00</td>\n      <td>high</td>\n      <td>321.05</td>\n      <td>320.15</td>\n      <td>09:37:00</td>\n      <td>09:55:00</td>\n      <td>15:59:00</td>\n      <td>321.17</td>\n      <td>321.91</td>\n      <td>-0.74</td>\n    </tr>\n    <tr>\n      <th>1</th>\n      <td>2020-01-02</td>\n      <td>09:35:00</td>\n      <td>high</td>\n      <td>323.86</td>\n      <td>323.41</td>\n      <td>09:46:00</td>\n      <td>09:49:00</td>\n      <td>10:11:00</td>\n      <td>323.72</td>\n      <td>323.60</td>\n      <td>0.12</td>\n    </tr>\n    <tr>\n      <th>2</th>\n      <td>2020-01-03</td>\n      <td>09:43:00</td>\n      <td>high</td>\n      <td>322.66</td>\n      <td>321.10</td>\n      <td>09:44:00</td>\n      <td>09:55:00</td>\n      <td>15:59:00</td>\n      <td>322.44</td>\n      <td>322.46</td>\n      <td>-0.02</td>\n    </tr>\n    <tr>\n      <th>3</th>\n      <td>2020-01-06</td>\n      <td>09:36:00</td>\n      <td>high</td>\n      <td>321.23</td>\n      <td>320.36</td>\n      <td>09:41:00</td>\n      <td>09:54:00</td>\n      <td>15:59:00</td>\n      <td>321.42</td>\n      <td>323.69</td>\n      <td>-2.27</td>\n    </tr>\n    <tr>\n      <th>4</th>\n      <td>2020-01-07</td>\n      <td>09:35:00</td>\n      <td>high</td>\n      <td>323.17</td>\n      <td>322.69</td>\n      <td>10:59:00</td>\n      <td>11:20:00</td>\n      <td>14:17:00</td>\n      <td>323.29</td>\n      <td>322.83</td>\n      <td>0.46</td>\n    </tr>\n    <tr>\n      <th>...</th>\n      <td>...</td>\n      <td>...</td>\n      <td>...</td>\n      <td>...</td>\n      <td>...</td>\n      <td>...</td>\n      <td>...</td>\n      <td>...</td>\n      <td>...</td>\n      <td>...</td>\n      <td>...</td>\n    </tr>\n    <tr>\n      <th>1289</th>\n      <td>2025-07-28</td>\n      <td>09:40:00</td>\n      <td>low</td>\n      <td>637.84</td>\n      <td>637.31</td>\n      <td>09:49:00</td>\n      <td>09:53:00</td>\n      <td>10:07:00</td>\n      <td>637.52</td>\n      <td>637.80</td>\n      <td>0.28</td>\n    </tr>\n    <tr>\n      <th>1290</th>\n      <td>2025-07-29</td>\n      <td>09:43:00</td>\n      <td>low</td>\n      <td>638.67</td>\n      <td>638.01</td>\n      <td>09:49:00</td>\n      <td>09:51:00</td>\n      <td>15:59:00</td>\n      <td>637.58</td>\n      <td>635.22</td>\n      <td>-2.36</td>\n    </tr>\n    <tr>\n      <th>1291</th>\n      <td>2025-07-30</td>\n      <td>09:37:00</td>\n      <td>high</td>\n      <td>636.03</td>\n      <td>635.29</td>\n      <td>09:46:00</td>\n      <td>09:47:00</td>\n      <td>11:12:00</td>\n      <td>635.70</td>\n      <td>635.36</td>\n      <td>0.34</td>\n    </tr>\n    <tr>\n      <th>1292</th>\n      <td>2025-07-31</td>\n      <td>09:39:00</td>\n      <td>low</td>\n      <td>639.75</td>\n      <td>638.40</td>\n      <td>09:41:00</td>\n      <td>09:48:00</td>\n      <td>15:59:00</td>\n      <td>638.46</td>\n      <td>631.91</td>\n      <td>-6.55</td>\n    </tr>\n    <tr>\n      <th>1293</th>\n      <td>2025-08-01</td>\n      <td>09:35:00</td>\n      <td>low</td>\n      <td>626.34</td>\n      <td>624.12</td>\n      <td>09:40:00</td>\n      <td>09:56:00</td>\n      <td>15:59:00</td>\n      <td>622.06</td>\n      <td>621.69</td>\n      <td>-0.37</td>\n    </tr>\n  </tbody>\n</table>\n<p>1294 rows × 11 columns</p>\n</div>"
     },
     "execution_count": 42,
     "metadata": {},
     "output_type": "execute_result"
    }
   ],
   "source": [
    "import pandas as pd\n",
    "\n",
    "def runBacktest(data_df, date, confirmationBar_df, exit_mode=\"stop\", slippage=0.02):\n",
    "\n",
    "   \n",
    "    day_df = data_df[data_df['Date'] == date].copy()\n",
    "    signalInfo = confirmationBar_df[confirmationBar_df['Date'] == date].copy()\n",
    "    \n",
    "    if signalInfo.empty or day_df.empty:\n",
    "        return None\n",
    "\n",
    "    high_or = signalInfo['OR_high'].iloc[0]\n",
    "    low_or = signalInfo['OR_low'].iloc[0]\n",
    "    timeConfirmationBar = signalInfo['timeConfirmationBar'].iloc[0]\n",
    "    timePullback = signalInfo['timePullback'].iloc[0]\n",
    "    typeBreach = signalInfo['breach'].iloc[0]\n",
    "\n",
    "    # only consider after confirmation candle\n",
    "    intraday = day_df[day_df['Time'] > pd.to_datetime(str(timePullback)).time()].reset_index(drop=True)\n",
    "    if intraday.empty:\n",
    "        return None\n",
    "    \n",
    "    # entry price\n",
    "    if typeBreach == 'high':\n",
    "        entryPrice = intraday.iloc[0]['open'] - slippage\n",
    "    else:\n",
    "        entryPrice = intraday.iloc[0]['open'] + slippage\n",
    "    \n",
    "    \n",
    "    exit_mode = 'continue'\n",
    "    \n",
    "    # loop intraday\n",
    "    for i in range(len(intraday) - 1):  \n",
    "        row = intraday.iloc[i]\n",
    "        \n",
    "        if typeBreach == 'high':  # long trade\n",
    "\n",
    "            if row['low'] <= low_or:  # stop triggered\n",
    "                \n",
    "                if exit_mode == \"stop\":\n",
    "                    exitPrice, exitTime = row['open'], row['Time']\n",
    "                elif exit_mode == 'continue':\n",
    "                    continue\n",
    "                else:\n",
    "                    raise ValueError(\"Invalid exit_mode\")\n",
    "\n",
    "                # apply slippage against you\n",
    "                exitPrice += slippage  \n",
    "\n",
    "                return {\n",
    "                    'Date': date,\n",
    "                    'timeBreach': signalInfo['timeBreach'].iloc[0],\n",
    "                    'breach': typeBreach,\n",
    "                    'OR_high': high_or,\n",
    "                    'OR_low': low_or,\n",
    "                    'timeConfirmationBar': timeConfirmationBar,\n",
    "                    'timePullback': timePullback,\n",
    "                    'timeExit': exitTime,\n",
    "                    'entryPrice': entryPrice,\n",
    "                    'exitPrice': exitPrice,\n",
    "                    'returns': entryPrice - exitPrice\n",
    "                }\n",
    "                \n",
    "            exit_mode = \"stop\"\n",
    "                \n",
    "        else:  # short trade\n",
    "\n",
    "            if row['close'] >= high_or:  # stop triggered\n",
    "                \n",
    "                if exit_mode == \"stop\":\n",
    "                    exitPrice, exitTime = row['open'], row['Time']\n",
    "                elif exit_mode == 'continue':\n",
    "                    continue\n",
    "                else:\n",
    "                    raise ValueError(\"Invalid exit_mode\")\n",
    "\n",
    "                # apply slippage against you\n",
    "                exitPrice -= slippage  \n",
    "\n",
    "                return {\n",
    "                    'Date': date,\n",
    "                    'timeBreach': signalInfo['timeBreach'].iloc[0],\n",
    "                    'breach': typeBreach,\n",
    "                    'OR_high': high_or,\n",
    "                    'OR_low': low_or,\n",
    "                    'timeConfirmationBar': timeConfirmationBar,\n",
    "                    'timePullback': timePullback,\n",
    "                    'timeExit': exitTime,\n",
    "                    'entryPrice': entryPrice,\n",
    "                    'exitPrice': exitPrice,\n",
    "                    'returns': exitPrice - entryPrice\n",
    "                }\n",
    "            \n",
    "            exit_mode = \"stop\"\n",
    "\n",
    "    # if stop never hit, exit at last close\n",
    "    finalExit = intraday.iloc[-1]['close']\n",
    "    finalExitTime = intraday.iloc[-1]['Time']\n",
    "\n",
    "    # apply slippage\n",
    "    if typeBreach == 'high':\n",
    "        finalExit += slippage\n",
    "    else:\n",
    "        finalExit -= slippage\n",
    "\n",
    "    return {\n",
    "        'Date': date,\n",
    "        'timeBreach': signalInfo['timeBreach'].iloc[0],\n",
    "        'breach': typeBreach,\n",
    "        'OR_high': high_or,\n",
    "        'OR_low': low_or,\n",
    "        'timeConfirmationBar': timeConfirmationBar,\n",
    "        'timePullback': timePullback,\n",
    "        'timeExit': finalExitTime,\n",
    "        'entryPrice': entryPrice,\n",
    "        'exitPrice': finalExit,\n",
    "        'returns': entryPrice - finalExit  if typeBreach == 'high' else finalExit - entryPrice\n",
    "    }\n",
    "\n",
    "\n",
    "\n",
    "\n",
    "# Run backtest\n",
    "backtest = []\n",
    "for d in confirmationBar_df['Date'].unique():\n",
    "    b = runBacktest(SPY_Data, d, confirmationPullback_df)\n",
    "    if b:\n",
    "        backtest.append(b)\n",
    "\n",
    "backtest_df = pd.DataFrame(backtest)\n",
    "print(\"Total PnL:\", backtest_df['returns'].sum())\n",
    "backtest_df\n"
   ],
   "metadata": {
    "collapsed": false,
    "ExecuteTime": {
     "end_time": "2025-09-23T22:50:51.319937500Z",
     "start_time": "2025-09-23T22:50:25.747707400Z"
    }
   },
   "id": "389ffcb6ee0cfb4"
  },
  {
   "cell_type": "code",
   "execution_count": 69,
   "outputs": [
    {
     "name": "stdout",
     "output_type": "stream",
     "text": [
      "For year: 2025\n",
      "Positive returns: \n",
      " # of positive days: 83\n",
      " returns of positive days: 109.85000000000309\n",
      " # of negative days: 46\n",
      " returns of negative days: -158.77999999999815\n",
      "NET:\n",
      "-48.92999999999506\n"
     ]
    },
    {
     "data": {
      "text/plain": "<Figure size 1200x400 with 1 Axes>",
      "image/png": "[encoded data removed]"
     },
     "metadata": {},
     "output_type": "display_data"
    }
   ],
   "source": [
    "year = 2025\n",
    "\n",
    "test = backtest_df.loc[pd.to_datetime(backtest_df['Date'], errors='coerce').dt.year == year]\n",
    "\n",
    "print(\"For year: \" + str(year))\n",
    "print(\"Positive returns: \")\n",
    "print(\" # of positive days: \" + str(test[test['returns'] >0]['returns'].count()))\n",
    "print(\" returns of positive days: \" + str(test[test['returns'] >0]['returns'].sum()))\n",
    "print(\" # of negative days: \" + str(test[test['returns'] <0]['returns'].count()))\n",
    "print(\" returns of negative days: \" + str(test[test['returns'] <0]['returns'].sum()))\n",
    "print(\"NET:\")\n",
    "print(test['returns'].sum())\n",
    "\n",
    "import pandas as pd\n",
    "import matplotlib.pyplot as plt\n",
    "\n",
    "# Make a clean copy and sort by Date if present\n",
    "\n",
    "# test = backtest_df[backtest_df['returns'] <0]\n",
    "df = backtest_df.copy()\n",
    "if 'Date' in df.columns:\n",
    "    df['Date'] = pd.to_datetime(df['Date'], errors='coerce')\n",
    "    df = df.sort_values('Date')\n",
    "\n",
    "r = pd.to_numeric(df['returns'], errors='coerce').fillna(0)\n",
    "\n",
    "# 1) Cumulative PnL (use for per-trade PnL/points)\n",
    "df['cum_pnl'] = r.cumsum()\n",
    "plt.figure(figsize=(12,4))\n",
    "plt.plot(df['Date'] if 'Date' in df.columns else df.index, df['cum_pnl'])\n",
    "plt.title('Cumulative PnL')\n",
    "plt.xlabel('Date' if 'Date' in df.columns else 'Trade #')\n",
    "plt.ylabel('PnL')\n",
    "plt.grid(True, alpha=0.3)\n",
    "plt.tight_layout()\n",
    "plt.show()\n",
    "\n"
   ],
   "metadata": {
    "collapsed": false,
    "ExecuteTime": {
     "end_time": "2025-09-24T03:53:23.195239300Z",
     "start_time": "2025-09-24T03:53:23.110239600Z"
    }
   },
   "id": "52f44f278399361e"
  }
 ],
 "metadata": {
  "kernelspec": {
   "display_name": "Python 3",
   "language": "python",
   "name": "python3"
  },
  "language_info": {
   "codemirror_mode": {
    "name": "ipython",
    "version": 2
   },
   "file_extension": ".py",
   "mimetype": "text/x-python",
   "name": "python",
   "nbconvert_exporter": "python",
   "pygments_lexer": "ipython2",
   "version": "2.7.6"
  }
 },
 "nbformat": 4,
 "nbformat_minor": 5
}
